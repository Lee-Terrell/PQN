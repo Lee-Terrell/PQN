{
 "cells": [
  {
   "cell_type": "code",
   "execution_count": 1,
   "metadata": {},
   "outputs": [],
   "source": [
    "# Compute value at risk (VaR) of a portfolio of stocks\n",
    "# VaR estimates how much your portfolio might lose over a set time period"
   ]
  },
  {
   "cell_type": "code",
   "execution_count": 2,
   "metadata": {},
   "outputs": [],
   "source": [
    "# Import dependencies\n",
    "import pandas as pd\n",
    "import numpy as np\n",
    "from scipy.stats import norm\n",
    "import yfinance as yf"
   ]
  },
  {
   "cell_type": "code",
   "execution_count": 4,
   "metadata": {},
   "outputs": [],
   "source": [
    "# Create portfolio of stocks\n",
    "tickers = [\"AAPL\",\"META\", \"C\",\"DIS\"]"
   ]
  },
  {
   "cell_type": "code",
   "execution_count": 5,
   "metadata": {},
   "outputs": [],
   "source": [
    "# pick weights of each stock\n",
    "weights = np.array([0.25,0.3,0.15,0.3])"
   ]
  },
  {
   "cell_type": "code",
   "execution_count": 16,
   "metadata": {},
   "outputs": [],
   "source": [
    "# the size of the p[ortfolio\n",
    "portfolio_value = 1_000"
   ]
  },
  {
   "cell_type": "code",
   "execution_count": 17,
   "metadata": {},
   "outputs": [],
   "source": [
    "# the confidence interval (95% confidence)\n",
    "confidence = 0.05"
   ]
  },
  {
   "cell_type": "code",
   "execution_count": 18,
   "metadata": {},
   "outputs": [
    {
     "name": "stdout",
     "output_type": "stream",
     "text": [
      "[*********************100%***********************]  4 of 4 completed\n"
     ]
    }
   ],
   "source": [
    "# Get data from yf\n",
    "data = yf.download(tickers,start='2018-01-01',end='2022-12-31')[\"Close\"]"
   ]
  },
  {
   "cell_type": "code",
   "execution_count": 22,
   "metadata": {},
   "outputs": [],
   "source": [
    "# Compute portfolio statistics\n",
    "\n",
    "# Get daily returns of stocks in portfolio\n",
    "returns = data.pct_change()\n",
    "\n",
    "# Get the mean returns for all data for AAPL, C, DIS, META\n",
    "mean_returns = returns.mean()\n",
    "\n",
    "#  Apply weights of each stock to mean_returns\n",
    "portfolio_mean = mean_returns.dot(weights)\n",
    "\n",
    "# Multiply by portfolio value to get the investment mean return\n",
    "investment_mean = (1 + portfolio_mean) * portfolio_value\n",
    "\n",
    "# Compute the  covariance between returns\n",
    "cov_matrix = returns.cov()\n",
    "\n",
    "# Take square root of covariance adjusted wweights of stock portfolio\n",
    "portfolio_stdev = np.sqrt(weights.T.dot(cov_matrix).dot(weights))\n",
    "\n",
    "# compute portfolio standard deviation\n",
    "investment_stdev = portfolio_value * portfolio_stdev"
   ]
  },
  {
   "cell_type": "code",
   "execution_count": 25,
   "metadata": {},
   "outputs": [
    {
     "data": {
      "text/plain": [
       "969.313241397873"
      ]
     },
     "execution_count": 25,
     "metadata": {},
     "output_type": "execute_result"
    }
   ],
   "source": [
    "# ppf takes a percentage and returns a standard deviation multiplier for what that percentage occurs at\n",
    "# it is equivalent to a one-tail test on the density plot\n",
    "\n",
    "percent_point = norm.ppf(confidence, investment_mean, investment_stdev)\n",
    "percent_point"
   ]
  },
  {
   "cell_type": "code",
   "execution_count": 26,
   "metadata": {},
   "outputs": [],
   "source": [
    "# VaR is the portfolio less this amount\n",
    "value_at_risk = portfolio_value - percent_point"
   ]
  },
  {
   "cell_type": "code",
   "execution_count": 28,
   "metadata": {},
   "outputs": [
    {
     "name": "stdout",
     "output_type": "stream",
     "text": [
      "Portfolio VaR: 30.686758602127043\n"
     ]
    }
   ],
   "source": [
    "print(f'Portfolio VaR: {value_at_risk}')"
   ]
  },
  {
   "cell_type": "code",
   "execution_count": 29,
   "metadata": {},
   "outputs": [],
   "source": [
    "# Stock returns increase with the squarte root of time\n",
    "import matplotlib.pyplot as plt"
   ]
  },
  {
   "cell_type": "code",
   "execution_count": 30,
   "metadata": {},
   "outputs": [
    {
     "data": {
      "text/plain": [
       "[<matplotlib.lines.Line2D at 0x7faa5c499bb0>]"
      ]
     },
     "execution_count": 30,
     "metadata": {},
     "output_type": "execute_result"
    },
    {
     "data": {
      "image/png": "[encoded data removed]",
      "text/plain": [
       "<Figure size 640x480 with 1 Axes>"
      ]
     },
     "metadata": {},
     "output_type": "display_data"
    }
   ],
   "source": [
    "value_at_risks = value_at_risk * np.sqrt(range(1,31))\n",
    "\n",
    "plt.xlabel(\"Day\")\n",
    "plt.ylabel(\"Max loss\")\n",
    "plt.title(\"Portfolio VaR\")\n",
    "plt.plot(value_at_risks, \"r\")"
   ]
  },
  {
   "cell_type": "code",
   "execution_count": null,
   "metadata": {},
   "outputs": [],
   "source": []
  }
 ],
 "metadata": {
  "kernelspec": {
   "display_name": "obb",
   "language": "python",
   "name": "python3"
  },
  "language_info": {
   "codemirror_mode": {
    "name": "ipython",
    "version": 3
   },
   "file_extension": ".py",
   "mimetype": "text/x-python",
   "name": "python",
   "nbconvert_exporter": "python",
   "pygments_lexer": "ipython3",
   "version": "3.9.6"
  },
  "orig_nbformat": 4,
  "vscode": {
   "interpreter": {
    "hash": "09985152472a613bd29ca818e5a0cc9d50736f36618a1b747bda8400d3f75438"
   }
  }
 },
 "nbformat": 4,
 "nbformat_minor": 2
}
